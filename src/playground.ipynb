{
 "cells": [
  {
   "cell_type": "code",
   "execution_count": 1,
   "metadata": {},
   "outputs": [],
   "source": [
    "%load_ext autoreload\n",
    "%autoreload 2\n",
    "\n",
    "\n",
    "import sys\n",
    "sys.path.append('.')\n",
    "\n",
    "from data.Simulation1cLoader import Simulation1cLoader\n"
   ]
  },
  {
   "cell_type": "code",
   "execution_count": 2,
   "metadata": {},
   "outputs": [],
   "source": [
    "dataset_name = 'simulation1c'\n",
    "sample = True\n",
    "graph_name='erdos_renyi'\n",
    "\n",
    "sim = Simulation1cLoader(name=dataset_name, sample=sample, graph_name = graph_name)"
   ]
  },
  {
   "cell_type": "code",
   "execution_count": 10,
   "metadata": {},
   "outputs": [
    {
     "data": {
      "text/plain": [
       "['__class__',\n",
       " '__delattr__',\n",
       " '__dict__',\n",
       " '__dir__',\n",
       " '__doc__',\n",
       " '__eq__',\n",
       " '__format__',\n",
       " '__ge__',\n",
       " '__getattribute__',\n",
       " '__gt__',\n",
       " '__hash__',\n",
       " '__init__',\n",
       " '__init_subclass__',\n",
       " '__le__',\n",
       " '__lt__',\n",
       " '__module__',\n",
       " '__ne__',\n",
       " '__new__',\n",
       " '__reduce__',\n",
       " '__reduce_ex__',\n",
       " '__repr__',\n",
       " '__setattr__',\n",
       " '__sizeof__',\n",
       " '__str__',\n",
       " '__subclasshook__',\n",
       " '__weakref__',\n",
       " '_read_data',\n",
       " 'covs',\n",
       " 'create_graph_list',\n",
       " 'create_graph_loader',\n",
       " 'graph_data',\n",
       " 'graph_name',\n",
       " 'n_simulations',\n",
       " 'name']"
      ]
     },
     "execution_count": 10,
     "metadata": {},
     "output_type": "execute_result"
    }
   ],
   "source": [
    "dir(sim)"
   ]
  },
  {
   "cell_type": "code",
   "execution_count": 4,
   "metadata": {},
   "outputs": [
    {
     "name": "stdout",
     "output_type": "stream",
     "text": [
      "CPU times: user 3 µs, sys: 1 µs, total: 4 µs\n",
      "Wall time: 8.58 µs\n"
     ]
    },
    {
     "name": "stderr",
     "output_type": "stream",
     "text": [
      "Processing Graphs for Cov -1.0: 100%|██████████| 1500/1500 [04:31<00:00,  5.52it/s]\n",
      "Processing Graphs for Cov -0.9: 100%|██████████| 1500/1500 [04:18<00:00,  5.80it/s]\n",
      "Processing Graphs for Cov -0.8: 100%|██████████| 1500/1500 [04:21<00:00,  5.74it/s]\n",
      "Processing Graphs for Cov -0.7: 100%|██████████| 1500/1500 [04:12<00:00,  5.93it/s]\n",
      "Processing Graphs for Cov -0.6: 100%|██████████| 1500/1500 [04:16<00:00,  5.84it/s]\n",
      "Processing Graphs for Cov -0.5: 100%|██████████| 1500/1500 [04:17<00:00,  5.83it/s]\n",
      "Processing Graphs for Cov -0.4: 100%|██████████| 1500/1500 [04:12<00:00,  5.95it/s]\n",
      "Processing Graphs for Cov -0.3: 100%|██████████| 1500/1500 [04:27<00:00,  5.62it/s]\n",
      "Processing Graphs for Cov -0.2: 100%|██████████| 1500/1500 [04:17<00:00,  5.83it/s]\n",
      "Processing Graphs for Cov -0.1: 100%|██████████| 1500/1500 [04:23<00:00,  5.70it/s]\n",
      "Processing Graphs for Cov -0.0: 100%|██████████| 1500/1500 [04:16<00:00,  5.86it/s] \n",
      "Processing Graphs for Cov 0.1: 100%|██████████| 1500/1500 [04:41<00:00,  5.33it/s] \n",
      "Processing Graphs for Cov 0.2: 100%|██████████| 1500/1500 [04:43<00:00,  5.28it/s]\n",
      "Processing Graphs for Cov 0.3: 100%|██████████| 1500/1500 [08:13<00:00,  3.04it/s] \n",
      "Processing Graphs for Cov 0.4: 100%|██████████| 1500/1500 [08:32<00:00,  2.93it/s] \n",
      "Processing Graphs for Cov 0.5: 100%|██████████| 1500/1500 [08:40<00:00,  2.88it/s] \n",
      "Processing Graphs for Cov 0.6: 100%|██████████| 1500/1500 [08:04<00:00,  3.09it/s] \n",
      "Processing Graphs for Cov 0.7: 100%|██████████| 1500/1500 [08:06<00:00,  3.08it/s] \n",
      "Processing Graphs for Cov 0.8: 100%|██████████| 1500/1500 [08:06<00:00,  3.08it/s] \n",
      "Processing Graphs for Cov 0.9: 100%|██████████| 1500/1500 [08:19<00:00,  3.00it/s] \n"
     ]
    }
   ],
   "source": [
    "%time\n",
    "graphs = sim.create_graph_list_old()"
   ]
  },
  {
   "cell_type": "code",
   "execution_count": 5,
   "metadata": {},
   "outputs": [],
   "source": [
    "def save_pickle(path, obj):\n",
    "    import pickle\n",
    "    with open(path, 'wb') as f:\n",
    "        pickle.dump(obj, f)\n",
    "\n",
    "save_pickle(path='./teste_erdos.pkl', obj=graphs)"
   ]
  },
  {
   "cell_type": "code",
   "execution_count": 6,
   "metadata": {},
   "outputs": [
    {
     "data": {
      "text/plain": [
       "2"
      ]
     },
     "execution_count": 6,
     "metadata": {},
     "output_type": "execute_result"
    }
   ],
   "source": [
    "sim.n_simulations = np.unique([sim.data.n_simulations for data in sim.graph_data_list])\n",
    "#sim.covs = np.unique([data.y.item() for data in graph_data_list])"
   ]
  },
  {
   "cell_type": "code",
   "execution_count": 12,
   "metadata": {},
   "outputs": [
    {
     "name": "stdout",
     "output_type": "stream",
     "text": [
      "The autoreload extension is already loaded. To reload it, use:\n",
      "  %reload_ext autoreload\n",
      "k_regular\n",
      "Creating the graph list\n"
     ]
    },
    {
     "name": "stderr",
     "output_type": "stream",
     "text": [
      "Processing Graphs for Cov -1.0:   0%|          | 2/1500 [00:02<35:01,  1.40s/it]"
     ]
    }
   ],
   "source": [
    "%load_ext autoreload\n",
    "%autoreload 2\n",
    "import sys\n",
    "sys.path.append('.')\n",
    "from data.Simulation1cLoader import Simulation1cLoader\n",
    "def save_pickle(path, obj):\n",
    "    import pickle\n",
    "    with open(path, 'wb') as f:\n",
    "        pickle.dump(obj, f)\n",
    "\n",
    "\n",
    "dataset_name = 'simulation1c'\n",
    "sample = False\n",
    "#graph_name = 'erdos_renyi'    #### DONE\n",
    "graph_names = ['k_regular', 'geometric', 'barabasi_albert', 'watts_strogatz']\n",
    "#graphs_names = ['k_regular', 'geometric', '', '']\n",
    "\n",
    "for graph_name in graph_names:\n",
    "    print(graph_name)\n",
    "    sim = Simulation1cLoader(name=dataset_name, sample=sample, graph_name = graph_name)\n",
    "    print('Creating the graph list')\n",
    "    graphs = sim.create_graph_list()\n",
    "    print('Saving')\n",
    "    save_pickle(path=f'./teste_{graph_name}.pkl', obj=graphs)\n",
    "    print()\n",
    "    print()\n",
    "    print()\n"
   ]
  },
  {
   "cell_type": "code",
   "execution_count": null,
   "metadata": {},
   "outputs": [],
   "source": []
  },
  {
   "cell_type": "code",
   "execution_count": null,
   "metadata": {},
   "outputs": [],
   "source": []
  }
 ],
 "metadata": {
  "kernelspec": {
   "display_name": "gce",
   "language": "python",
   "name": "python3"
  },
  "language_info": {
   "codemirror_mode": {
    "name": "ipython",
    "version": 3
   },
   "file_extension": ".py",
   "mimetype": "text/x-python",
   "name": "python",
   "nbconvert_exporter": "python",
   "pygments_lexer": "ipython3",
   "version": "3.9.0"
  }
 },
 "nbformat": 4,
 "nbformat_minor": 2
}
