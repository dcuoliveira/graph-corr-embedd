{
 "cells": [
  {
   "cell_type": "code",
   "execution_count": 8,
   "metadata": {},
   "outputs": [],
   "source": [
    "import os\n",
    "\n",
    "from utils.conn_data import load_pickle"
   ]
  },
  {
   "cell_type": "code",
   "execution_count": 9,
   "metadata": {},
   "outputs": [
    {
     "ename": "EOFError",
     "evalue": "Ran out of input",
     "output_type": "error",
     "traceback": [
      "\u001b[0;31m---------------------------------------------------------------------------\u001b[0m",
      "\u001b[0;31mEOFError\u001b[0m                                  Traceback (most recent call last)",
      "\u001b[1;32m/Users/danieloliveira/Documents/Daniel/codes/graph-corr-embedd/src/check_nn_training.ipynb Cell 2\u001b[0m line \u001b[0;36m5\n\u001b[1;32m      <a href='vscode-notebook-cell:/Users/danieloliveira/Documents/Daniel/codes/graph-corr-embedd/src/check_nn_training.ipynb#W2sZmlsZQ%3D%3D?line=1'>2</a>\u001b[0m model_name \u001b[39m=\u001b[39m \u001b[39m\"\u001b[39m\u001b[39msdne-single-layer-each\u001b[39m\u001b[39m\"\u001b[39m\n\u001b[1;32m      <a href='vscode-notebook-cell:/Users/danieloliveira/Documents/Daniel/codes/graph-corr-embedd/src/check_nn_training.ipynb#W2sZmlsZQ%3D%3D?line=3'>4</a>\u001b[0m args \u001b[39m=\u001b[39m load_pickle(os\u001b[39m.\u001b[39mpath\u001b[39m.\u001b[39mjoin(outputs_path, model_name, \u001b[39m\"\u001b[39m\u001b[39margs.json\u001b[39m\u001b[39m\"\u001b[39m))\n\u001b[0;32m----> <a href='vscode-notebook-cell:/Users/danieloliveira/Documents/Daniel/codes/graph-corr-embedd/src/check_nn_training.ipynb#W2sZmlsZQ%3D%3D?line=4'>5</a>\u001b[0m results \u001b[39m=\u001b[39m load_pickle(os\u001b[39m.\u001b[39;49mpath\u001b[39m.\u001b[39;49mjoin(outputs_path, model_name, \u001b[39m\"\u001b[39;49m\u001b[39mresults.pickle\u001b[39;49m\u001b[39m\"\u001b[39;49m))\n",
      "File \u001b[0;32m~/Documents/Daniel/codes/graph-corr-embedd/src/utils/conn_data.py:12\u001b[0m, in \u001b[0;36mload_pickle\u001b[0;34m(path)\u001b[0m\n\u001b[1;32m      9\u001b[0m \u001b[39mdef\u001b[39;00m \u001b[39mload_pickle\u001b[39m(path: \u001b[39mstr\u001b[39m):\n\u001b[1;32m     11\u001b[0m     \u001b[39mwith\u001b[39;00m \u001b[39mopen\u001b[39m(path, \u001b[39m'\u001b[39m\u001b[39mrb\u001b[39m\u001b[39m'\u001b[39m) \u001b[39mas\u001b[39;00m handle:\n\u001b[0;32m---> 12\u001b[0m         target_dict \u001b[39m=\u001b[39m pickle\u001b[39m.\u001b[39;49mload(handle)\n\u001b[1;32m     14\u001b[0m     \u001b[39mreturn\u001b[39;00m target_dict\n",
      "\u001b[0;31mEOFError\u001b[0m: Ran out of input"
     ]
    }
   ],
   "source": [
    "outputs_path = os.path.join(os.getcwd(), \"data\", \"outputs\")\n",
    "model_name = \"sdne-single-layer-each\"\n",
    "\n",
    "args = load_pickle(os.path.join(outputs_path, model_name, \"args.json\"))\n",
    "results = load_pickle(os.path.join(outputs_path, model_name, \"results.pickle\"))"
   ]
  },
  {
   "cell_type": "code",
   "execution_count": null,
   "metadata": {},
   "outputs": [],
   "source": []
  }
 ],
 "metadata": {
  "kernelspec": {
   "display_name": "gce",
   "language": "python",
   "name": "python3"
  },
  "language_info": {
   "codemirror_mode": {
    "name": "ipython",
    "version": 3
   },
   "file_extension": ".py",
   "mimetype": "text/x-python",
   "name": "python",
   "nbconvert_exporter": "python",
   "pygments_lexer": "ipython3",
   "version": "3.10.0"
  }
 },
 "nbformat": 4,
 "nbformat_minor": 2
}
