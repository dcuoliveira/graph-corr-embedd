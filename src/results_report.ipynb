{
 "cells": [
  {
   "cell_type": "code",
   "execution_count": 2,
   "metadata": {},
   "outputs": [],
   "source": [
    "import os\n",
    "import pandas as pd\n",
    "from sklearn.metrics import mean_squared_error, mean_absolute_error\n",
    "import matplotlib.pyplot as plt\n",
    "import seaborn as sns\n",
    "\n",
    "from utils.conn_data import load_pickle\n",
    "\n",
    "plt.style.use('ggplot')"
   ]
  },
  {
   "cell_type": "code",
   "execution_count": 3,
   "metadata": {},
   "outputs": [],
   "source": [
    "models = [\n",
    "    'spectrum',\n",
    "    'sdne_20_1_1', 'sdne_30_1_1', 'sdne_40_1_1', 'sdne_50_1_1', 'sdne_100_1_1', 'sdne_100_5_5', 'sdne_100_10_10', 'sdne_100_15_15', 'sdne_100_20_20',\n",
    "]\n",
    "datasets = ['simulation1']\n",
    "outputs_path = os.path.join(os.getcwd(), 'data', 'outputs')"
   ]
  },
  {
   "cell_type": "markdown",
   "metadata": {},
   "source": [
    "## Check all Model Prediction Errors"
   ]
  },
  {
   "cell_type": "code",
   "execution_count": 4,
   "metadata": {},
   "outputs": [],
   "source": [
    "prediction_error = []\n",
    "for model in models:\n",
    "    for ds in datasets:\n",
    "\n",
    "        # load data\n",
    "        data = load_pickle(os.path.join(outputs_path, ds, model, 'results.pkl'))\n",
    "\n",
    "        try:\n",
    "            pred_df = pd.DataFrame({\"pred\": data['pred'], \"true\": data[\"true\"]}).dropna()\n",
    "        except:\n",
    "            pred_df = pd.DataFrame({\"pred\": data['test_pred'], \"true\": data[\"test_true\"]}).dropna()\n",
    "\n",
    "        # compute relevant metrics\n",
    "        mse = mean_squared_error(pred_df['true'], pred_df['pred'])\n",
    "        mae = mean_absolute_error(pred_df['true'], pred_df['pred'])\n",
    "\n",
    "        # store results\n",
    "        prediction_error.append({\"model\": model, \"dataset\": ds, \"mse\": mse, \"mae\": mae})\n",
    "\n",
    "prediction_error_df = pd.DataFrame(prediction_error)"
   ]
  },
  {
   "cell_type": "markdown",
   "metadata": {},
   "source": [
    "## MSE Comparison"
   ]
  },
  {
   "cell_type": "code",
   "execution_count": 5,
   "metadata": {},
   "outputs": [
    {
     "data": {
      "text/html": [
       "<div>\n",
       "<style scoped>\n",
       "    .dataframe tbody tr th:only-of-type {\n",
       "        vertical-align: middle;\n",
       "    }\n",
       "\n",
       "    .dataframe tbody tr th {\n",
       "        vertical-align: top;\n",
       "    }\n",
       "\n",
       "    .dataframe thead th {\n",
       "        text-align: right;\n",
       "    }\n",
       "</style>\n",
       "<table border=\"1\" class=\"dataframe\">\n",
       "  <thead>\n",
       "    <tr style=\"text-align: right;\">\n",
       "      <th></th>\n",
       "      <th>model</th>\n",
       "      <th>dataset</th>\n",
       "      <th>mse</th>\n",
       "      <th>mae</th>\n",
       "    </tr>\n",
       "  </thead>\n",
       "  <tbody>\n",
       "    <tr>\n",
       "      <th>6</th>\n",
       "      <td>sdne_100_5_5</td>\n",
       "      <td>simulation1</td>\n",
       "      <td>0.332558</td>\n",
       "      <td>0.499975</td>\n",
       "    </tr>\n",
       "    <tr>\n",
       "      <th>8</th>\n",
       "      <td>sdne_100_15_15</td>\n",
       "      <td>simulation1</td>\n",
       "      <td>0.334392</td>\n",
       "      <td>0.500206</td>\n",
       "    </tr>\n",
       "    <tr>\n",
       "      <th>3</th>\n",
       "      <td>sdne_40_1_1</td>\n",
       "      <td>simulation1</td>\n",
       "      <td>0.344615</td>\n",
       "      <td>0.505871</td>\n",
       "    </tr>\n",
       "    <tr>\n",
       "      <th>2</th>\n",
       "      <td>sdne_30_1_1</td>\n",
       "      <td>simulation1</td>\n",
       "      <td>0.344622</td>\n",
       "      <td>0.505862</td>\n",
       "    </tr>\n",
       "    <tr>\n",
       "      <th>7</th>\n",
       "      <td>sdne_100_10_10</td>\n",
       "      <td>simulation1</td>\n",
       "      <td>0.347191</td>\n",
       "      <td>0.507014</td>\n",
       "    </tr>\n",
       "    <tr>\n",
       "      <th>9</th>\n",
       "      <td>sdne_100_20_20</td>\n",
       "      <td>simulation1</td>\n",
       "      <td>0.362240</td>\n",
       "      <td>0.514483</td>\n",
       "    </tr>\n",
       "    <tr>\n",
       "      <th>4</th>\n",
       "      <td>sdne_50_1_1</td>\n",
       "      <td>simulation1</td>\n",
       "      <td>0.371009</td>\n",
       "      <td>0.518962</td>\n",
       "    </tr>\n",
       "    <tr>\n",
       "      <th>5</th>\n",
       "      <td>sdne_100_1_1</td>\n",
       "      <td>simulation1</td>\n",
       "      <td>0.386431</td>\n",
       "      <td>0.526388</td>\n",
       "    </tr>\n",
       "    <tr>\n",
       "      <th>1</th>\n",
       "      <td>sdne_20_1_1</td>\n",
       "      <td>simulation1</td>\n",
       "      <td>0.418977</td>\n",
       "      <td>0.541828</td>\n",
       "    </tr>\n",
       "    <tr>\n",
       "      <th>0</th>\n",
       "      <td>spectrum</td>\n",
       "      <td>simulation1</td>\n",
       "      <td>1.109323</td>\n",
       "      <td>0.858614</td>\n",
       "    </tr>\n",
       "  </tbody>\n",
       "</table>\n",
       "</div>"
      ],
      "text/plain": [
       "            model      dataset       mse       mae\n",
       "6    sdne_100_5_5  simulation1  0.332558  0.499975\n",
       "8  sdne_100_15_15  simulation1  0.334392  0.500206\n",
       "3     sdne_40_1_1  simulation1  0.344615  0.505871\n",
       "2     sdne_30_1_1  simulation1  0.344622  0.505862\n",
       "7  sdne_100_10_10  simulation1  0.347191  0.507014\n",
       "9  sdne_100_20_20  simulation1  0.362240  0.514483\n",
       "4     sdne_50_1_1  simulation1  0.371009  0.518962\n",
       "5    sdne_100_1_1  simulation1  0.386431  0.526388\n",
       "1     sdne_20_1_1  simulation1  0.418977  0.541828\n",
       "0        spectrum  simulation1  1.109323  0.858614"
      ]
     },
     "execution_count": 5,
     "metadata": {},
     "output_type": "execute_result"
    }
   ],
   "source": [
    "prediction_error_df.sort_values(by=['mse'], ascending=True)"
   ]
  },
  {
   "cell_type": "code",
   "execution_count": 6,
   "metadata": {},
   "outputs": [
    {
     "data": {
      "text/html": [
       "<div>\n",
       "<style scoped>\n",
       "    .dataframe tbody tr th:only-of-type {\n",
       "        vertical-align: middle;\n",
       "    }\n",
       "\n",
       "    .dataframe tbody tr th {\n",
       "        vertical-align: top;\n",
       "    }\n",
       "\n",
       "    .dataframe thead th {\n",
       "        text-align: right;\n",
       "    }\n",
       "</style>\n",
       "<table border=\"1\" class=\"dataframe\">\n",
       "  <thead>\n",
       "    <tr style=\"text-align: right;\">\n",
       "      <th></th>\n",
       "      <th>model</th>\n",
       "      <th>dataset</th>\n",
       "      <th>mse</th>\n",
       "      <th>mae</th>\n",
       "    </tr>\n",
       "  </thead>\n",
       "  <tbody>\n",
       "    <tr>\n",
       "      <th>6</th>\n",
       "      <td>sdne_100_5_5</td>\n",
       "      <td>simulation1</td>\n",
       "      <td>0.332558</td>\n",
       "      <td>0.499975</td>\n",
       "    </tr>\n",
       "    <tr>\n",
       "      <th>8</th>\n",
       "      <td>sdne_100_15_15</td>\n",
       "      <td>simulation1</td>\n",
       "      <td>0.334392</td>\n",
       "      <td>0.500206</td>\n",
       "    </tr>\n",
       "    <tr>\n",
       "      <th>3</th>\n",
       "      <td>sdne_40_1_1</td>\n",
       "      <td>simulation1</td>\n",
       "      <td>0.344615</td>\n",
       "      <td>0.505871</td>\n",
       "    </tr>\n",
       "    <tr>\n",
       "      <th>2</th>\n",
       "      <td>sdne_30_1_1</td>\n",
       "      <td>simulation1</td>\n",
       "      <td>0.344622</td>\n",
       "      <td>0.505862</td>\n",
       "    </tr>\n",
       "    <tr>\n",
       "      <th>7</th>\n",
       "      <td>sdne_100_10_10</td>\n",
       "      <td>simulation1</td>\n",
       "      <td>0.347191</td>\n",
       "      <td>0.507014</td>\n",
       "    </tr>\n",
       "    <tr>\n",
       "      <th>9</th>\n",
       "      <td>sdne_100_20_20</td>\n",
       "      <td>simulation1</td>\n",
       "      <td>0.362240</td>\n",
       "      <td>0.514483</td>\n",
       "    </tr>\n",
       "    <tr>\n",
       "      <th>4</th>\n",
       "      <td>sdne_50_1_1</td>\n",
       "      <td>simulation1</td>\n",
       "      <td>0.371009</td>\n",
       "      <td>0.518962</td>\n",
       "    </tr>\n",
       "    <tr>\n",
       "      <th>5</th>\n",
       "      <td>sdne_100_1_1</td>\n",
       "      <td>simulation1</td>\n",
       "      <td>0.386431</td>\n",
       "      <td>0.526388</td>\n",
       "    </tr>\n",
       "    <tr>\n",
       "      <th>1</th>\n",
       "      <td>sdne_20_1_1</td>\n",
       "      <td>simulation1</td>\n",
       "      <td>0.418977</td>\n",
       "      <td>0.541828</td>\n",
       "    </tr>\n",
       "    <tr>\n",
       "      <th>0</th>\n",
       "      <td>spectrum</td>\n",
       "      <td>simulation1</td>\n",
       "      <td>1.109323</td>\n",
       "      <td>0.858614</td>\n",
       "    </tr>\n",
       "  </tbody>\n",
       "</table>\n",
       "</div>"
      ],
      "text/plain": [
       "            model      dataset       mse       mae\n",
       "6    sdne_100_5_5  simulation1  0.332558  0.499975\n",
       "8  sdne_100_15_15  simulation1  0.334392  0.500206\n",
       "3     sdne_40_1_1  simulation1  0.344615  0.505871\n",
       "2     sdne_30_1_1  simulation1  0.344622  0.505862\n",
       "7  sdne_100_10_10  simulation1  0.347191  0.507014\n",
       "9  sdne_100_20_20  simulation1  0.362240  0.514483\n",
       "4     sdne_50_1_1  simulation1  0.371009  0.518962\n",
       "5    sdne_100_1_1  simulation1  0.386431  0.526388\n",
       "1     sdne_20_1_1  simulation1  0.418977  0.541828\n",
       "0        spectrum  simulation1  1.109323  0.858614"
      ]
     },
     "execution_count": 6,
     "metadata": {},
     "output_type": "execute_result"
    }
   ],
   "source": [
    "prediction_error_df.sort_values(by=['mse'], ascending=True)"
   ]
  },
  {
   "cell_type": "markdown",
   "metadata": {},
   "source": [
    "## Check Individual Model"
   ]
  },
  {
   "cell_type": "code",
   "execution_count": 7,
   "metadata": {},
   "outputs": [
    {
     "name": "stdout",
     "output_type": "stream",
     "text": [
      "Error for spectrum on simulation1\n"
     ]
    }
   ],
   "source": [
    "model = 'spectrum'\n",
    "ds = 'simulation1'\n",
    "\n",
    "# load data\n",
    "data = load_pickle(os.path.join(outputs_path, ds, model, 'results.pkl'))\n",
    "inputs = load_pickle(os.path.join(outputs_path, ds, model, 'inputs.pkl'))\n",
    "\n",
    "try:\n",
    "    # compute relevant metrics\n",
    "    mse = mean_squared_error(data['true'], data['pred'])\n",
    "    mae = mean_absolute_error(data['true'], data['pred'])\n",
    "\n",
    "    # store results\n",
    "    prediction_error.append({\"model\": model, \"dataset\": ds, \"mse\": mse, \"mae\": mae})\n",
    "except:\n",
    "    print(f'Error for {model} on {ds}')\n",
    "\n",
    "pred_df = pd.DataFrame({'pred': data['pred'], 'true': data['true']})\n",
    "\n",
    "# find nans\n",
    "nan_rows = pred_df[pred_df.isnull().any(1)]"
   ]
  },
  {
   "cell_type": "code",
   "execution_count": 8,
   "metadata": {},
   "outputs": [
    {
     "data": {
      "text/html": [
       "<div>\n",
       "<style scoped>\n",
       "    .dataframe tbody tr th:only-of-type {\n",
       "        vertical-align: middle;\n",
       "    }\n",
       "\n",
       "    .dataframe tbody tr th {\n",
       "        vertical-align: top;\n",
       "    }\n",
       "\n",
       "    .dataframe thead th {\n",
       "        text-align: right;\n",
       "    }\n",
       "</style>\n",
       "<table border=\"1\" class=\"dataframe\">\n",
       "  <thead>\n",
       "    <tr style=\"text-align: right;\">\n",
       "      <th></th>\n",
       "      <th>pred</th>\n",
       "      <th>true</th>\n",
       "    </tr>\n",
       "  </thead>\n",
       "  <tbody>\n",
       "    <tr>\n",
       "      <th>684</th>\n",
       "      <td>NaN</td>\n",
       "      <td>-0.1</td>\n",
       "    </tr>\n",
       "    <tr>\n",
       "      <th>12994</th>\n",
       "      <td>NaN</td>\n",
       "      <td>0.2</td>\n",
       "    </tr>\n",
       "    <tr>\n",
       "      <th>15476</th>\n",
       "      <td>NaN</td>\n",
       "      <td>0.5</td>\n",
       "    </tr>\n",
       "    <tr>\n",
       "      <th>15526</th>\n",
       "      <td>NaN</td>\n",
       "      <td>-0.5</td>\n",
       "    </tr>\n",
       "    <tr>\n",
       "      <th>23251</th>\n",
       "      <td>NaN</td>\n",
       "      <td>-1.0</td>\n",
       "    </tr>\n",
       "    <tr>\n",
       "      <th>24185</th>\n",
       "      <td>NaN</td>\n",
       "      <td>-0.4</td>\n",
       "    </tr>\n",
       "  </tbody>\n",
       "</table>\n",
       "</div>"
      ],
      "text/plain": [
       "       pred  true\n",
       "684     NaN  -0.1\n",
       "12994   NaN   0.2\n",
       "15476   NaN   0.5\n",
       "15526   NaN  -0.5\n",
       "23251   NaN  -1.0\n",
       "24185   NaN  -0.4"
      ]
     },
     "execution_count": 8,
     "metadata": {},
     "output_type": "execute_result"
    }
   ],
   "source": [
    "nan_rows"
   ]
  },
  {
   "cell_type": "code",
   "execution_count": 9,
   "metadata": {},
   "outputs": [
    {
     "data": {
      "text/plain": [
       "torch.Size([6, 2, 100, 100])"
      ]
     },
     "execution_count": 9,
     "metadata": {},
     "output_type": "execute_result"
    }
   ],
   "source": [
    "inputs[\"inputs\"].shape"
   ]
  },
  {
   "cell_type": "code",
   "execution_count": 12,
   "metadata": {},
   "outputs": [
    {
     "name": "stdout",
     "output_type": "stream",
     "text": [
      "True covariance = -0.10000000149011612\n"
     ]
    }
   ],
   "source": [
    "print(f\"True covariance = {nan_rows.iloc[0]['true']}\")"
   ]
  },
  {
   "cell_type": "code",
   "execution_count": 19,
   "metadata": {},
   "outputs": [],
   "source": [
    "adj1 = inputs[\"inputs\"][0, 0, :, :]\n",
    "adj2 = inputs[\"inputs\"][0, 1, :, :]"
   ]
  },
  {
   "cell_type": "code",
   "execution_count": 20,
   "metadata": {},
   "outputs": [
    {
     "data": {
      "text/plain": [
       "<Axes: >"
      ]
     },
     "execution_count": 20,
     "metadata": {},
     "output_type": "execute_result"
    },
    {
     "data": {
      "image/png": "[encoded data removed]",
      "text/plain": [
       "<Figure size 640x480 with 2 Axes>"
      ]
     },
     "metadata": {},
     "output_type": "display_data"
    }
   ],
   "source": [
    "sns.heatmap(adj1)"
   ]
  },
  {
   "cell_type": "code",
   "execution_count": 21,
   "metadata": {},
   "outputs": [
    {
     "data": {
      "text/plain": [
       "<Axes: >"
      ]
     },
     "execution_count": 21,
     "metadata": {},
     "output_type": "execute_result"
    },
    {
     "data": {
      "image/png": "[encoded data removed]",
      "text/plain": [
       "<Figure size 640x480 with 2 Axes>"
      ]
     },
     "metadata": {},
     "output_type": "display_data"
    }
   ],
   "source": [
    "sns.heatmap(adj2)"
   ]
  },
  {
   "cell_type": "code",
   "execution_count": null,
   "metadata": {},
   "outputs": [],
   "source": []
  }
 ],
 "metadata": {
  "kernelspec": {
   "display_name": "gce",
   "language": "python",
   "name": "python3"
  },
  "language_info": {
   "codemirror_mode": {
    "name": "ipython",
    "version": 3
   },
   "file_extension": ".py",
   "mimetype": "text/x-python",
   "name": "python",
   "nbconvert_exporter": "python",
   "pygments_lexer": "ipython3",
   "version": "3.10.0"
  }
 },
 "nbformat": 4,
 "nbformat_minor": 2
}
