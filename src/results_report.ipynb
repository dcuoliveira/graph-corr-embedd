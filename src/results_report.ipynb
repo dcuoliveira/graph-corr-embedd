{
 "cells": [
  {
   "cell_type": "code",
   "execution_count": 1,
   "metadata": {},
   "outputs": [],
   "source": [
    "import os\n",
    "import pandas as pd\n",
    "from sklearn.metrics import mean_squared_error, mean_absolute_error\n",
    "import matplotlib.pyplot as plt\n",
    "\n",
    "from utils.conn_data import load_pickle\n",
    "\n",
    "plt.style.use('ggplot')"
   ]
  },
  {
   "cell_type": "code",
   "execution_count": 2,
   "metadata": {},
   "outputs": [],
   "source": [
    "models = [\n",
    "    'spectrum',\n",
    "    'sdne_20_1_1', 'sdne_30_1_1', 'sdne_40_1_1', 'sdne_50_1_1', 'sdne_100_1_1', 'sdne_100_5_5', 'sdne_100_10_10', 'sdne_100_15_15', 'sdne_100_20_20',\n",
    "]\n",
    "datasets = ['simulation1']\n",
    "outputs_path = os.path.join(os.getcwd(), 'data', 'outputs')"
   ]
  },
  {
   "cell_type": "markdown",
   "metadata": {},
   "source": [
    "## Check all Model Prediction Errors"
   ]
  },
  {
   "cell_type": "code",
   "execution_count": 6,
   "metadata": {},
   "outputs": [
    {
     "name": "stdout",
     "output_type": "stream",
     "text": [
      "Error for spectrum on simulation1\n",
      "Error for sdne_20_1_1 on simulation1\n",
      "Error for sdne_30_1_1 on simulation1\n",
      "Error for sdne_40_1_1 on simulation1\n",
      "Error for sdne_50_1_1 on simulation1\n",
      "Error for sdne_100_1_1 on simulation1\n",
      "Error for sdne_100_5_5 on simulation1\n",
      "Error for sdne_100_10_10 on simulation1\n",
      "Error for sdne_100_15_15 on simulation1\n",
      "Error for sdne_100_20_20 on simulation1\n"
     ]
    }
   ],
   "source": [
    "\n",
    "prediction_error = []\n",
    "for model in models:\n",
    "    for ds in datasets:\n",
    "\n",
    "        # load data\n",
    "        data = load_pickle(os.path.join(outputs_path, ds, model, 'results.pkl'))\n",
    "\n",
    "        try:\n",
    "            # compute relevant metrics\n",
    "            mse = mean_squared_error(data['true'], data['pred'])\n",
    "            mae = mean_absolute_error(data['true'], data['pred'])\n",
    "\n",
    "            # store results\n",
    "            prediction_error.append({\"model\": model, \"dataset\": ds, \"mse\": mse, \"mae\": mae})\n",
    "        except:\n",
    "            print(f'Error for {model} on {ds}')\n",
    "\n",
    "prediction_error_df = pd.DataFrame(prediction_error)"
   ]
  },
  {
   "cell_type": "markdown",
   "metadata": {},
   "source": [
    "## Check Individual Model"
   ]
  },
  {
   "cell_type": "code",
   "execution_count": 15,
   "metadata": {},
   "outputs": [
    {
     "name": "stdout",
     "output_type": "stream",
     "text": [
      "Error for spectrum on simulation1\n"
     ]
    }
   ],
   "source": [
    "model = 'spectrum'\n",
    "ds = 'simulation1'\n",
    "\n",
    "# load data\n",
    "data = load_pickle(os.path.join(outputs_path, ds, model, 'results.pkl'))\n",
    "\n",
    "try:\n",
    "    # compute relevant metrics\n",
    "    mse = mean_squared_error(data['true'], data['pred'])\n",
    "    mae = mean_absolute_error(data['true'], data['pred'])\n",
    "\n",
    "    # store results\n",
    "    prediction_error.append({\"model\": model, \"dataset\": ds, \"mse\": mse, \"mae\": mae})\n",
    "except:\n",
    "    print(f'Error for {model} on {ds}')\n",
    "\n",
    "pred_df = pd.DataFrame({'pred': data['pred'], 'true': data['true']})\n",
    "\n",
    "# find nans\n",
    "nan_rows = pred_df[pred_df.isnull().any(1)]\n",
    "\n",
    "# get embeddings from nan position\n",
    "nan_embeddings = data['embeddings'][nan_rows.index]\n",
    "\n",
    "# # get inputs from nan position\n",
    "# nan_inputs = data['inputs'][nan_rows.index]\n"
   ]
  },
  {
   "cell_type": "code",
   "execution_count": 14,
   "metadata": {},
   "outputs": [
    {
     "data": {
      "text/plain": [
       "<matplotlib.legend.Legend at 0x7fb662859330>"
      ]
     },
     "execution_count": 14,
     "metadata": {},
     "output_type": "execute_result"
    },
    {
     "data": {
      "image/png": "[encoded data removed]",
      "text/plain": [
       "<Figure size 800x600 with 1 Axes>"
      ]
     },
     "metadata": {},
     "output_type": "display_data"
    }
   ],
   "source": [
    "embedding_pos = 10\n",
    "\n",
    "selected_embedding_df = pd.DataFrame(nan_embeddings[0, :, :].numpy()).T\n",
    "\n",
    "# Create the plot\n",
    "plt.figure(figsize=(8, 6))\n",
    "\n",
    "# Plotting the histograms\n",
    "plt.hist(selected_embedding_df[[0]], bins=30, color='blue', alpha=0.5, label='Embedding 1')\n",
    "plt.hist(selected_embedding_df[[1]], bins=30, color='green', alpha=0.5, label='Embedding 2')\n",
    "\n",
    "# Adding titles and labels\n",
    "plt.title('Overlaid Embedding Values')\n",
    "plt.xlabel('Value')\n",
    "plt.ylabel('Frequency')\n",
    "\n",
    "# Adding a legend\n",
    "plt.legend()"
   ]
  },
  {
   "cell_type": "code",
   "execution_count": null,
   "metadata": {},
   "outputs": [],
   "source": []
  }
 ],
 "metadata": {
  "kernelspec": {
   "display_name": "gce",
   "language": "python",
   "name": "python3"
  },
  "language_info": {
   "codemirror_mode": {
    "name": "ipython",
    "version": 3
   },
   "file_extension": ".py",
   "mimetype": "text/x-python",
   "name": "python",
   "nbconvert_exporter": "python",
   "pygments_lexer": "ipython3",
   "version": "3.10.0"
  }
 },
 "nbformat": 4,
 "nbformat_minor": 2
}
