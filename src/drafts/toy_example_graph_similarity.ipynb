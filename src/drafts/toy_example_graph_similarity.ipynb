{
 "cells": [
  {
   "cell_type": "code",
   "execution_count": 44,
   "metadata": {},
   "outputs": [],
   "source": [
    "from simulation.GraphSim import GraphSim\n",
    "from utils.activation_functions import sigmoid\n",
    "from copy import copy\n",
    "import networkx as nx\n",
    "import numpy as np\n",
    "from scipy.stats import spearmanr"
   ]
  },
  {
   "cell_type": "code",
   "execution_count": 16,
   "metadata": {},
   "outputs": [],
   "source": [
    "def sim_graph_sequence(graph_name: str, n_sim: int, n_nodes: int, rho: float, seed: int=None):\n",
    "\n",
    "    gs = GraphSim(graph_name=graph_name)\n",
    "\n",
    "    # gen seed\n",
    "    gs.update_seed(seed=seed)\n",
    "\n",
    "    ps_orig_out = []\n",
    "    ps_out = []\n",
    "    rhos_out = []\n",
    "    graphs_out = []\n",
    "    for i in range(n_sim):\n",
    "\n",
    "        # generate probability of edge creation\n",
    "        ps = gs.get_p_from_bivariate_gaussian(s=rho, size=1)\n",
    "        ps_orig = copy(ps)\n",
    "        ps = sigmoid(ps)\n",
    "        j = 0\n",
    "\n",
    "        if graph_name == 'erdos_renyi':\n",
    "            graph1 = gs.simulate_erdos(n=n_nodes, prob=ps[j,0])\n",
    "            graph2 = gs.simulate_erdos(n=n_nodes, prob=ps[j,1])\n",
    "        elif graph_name == 'k_regular':\n",
    "            graph1 = gs.simulate_k_regular(n=n_nodes, k=int(10*ps[j,0]))\n",
    "            graph2 = gs.simulate_k_regular(n=n_nodes, k=int(10*ps[j,1]))\n",
    "        elif graph_name == 'geometric':\n",
    "            graph1 = gs.simulate_geometric(n=n_nodes, radius=ps[j,0])\n",
    "            graph2 = gs.simulate_geometric(n=n_nodes, radius=ps[j,1])\n",
    "        elif graph_name == 'barabasi_albert':\n",
    "            graph1 = gs.simulate_barabasi_albert(n=n_nodes, m=int(10*ps[j,0]))\n",
    "            graph2 = gs.simulate_barabasi_albert(n=n_nodes, m=int(10*ps[j,1]))\n",
    "        elif graph_name == 'watts_strogatz':\n",
    "            graph1 = gs.simulate_watts_strogatz(n=n_nodes, k=3, p=ps[j,0])\n",
    "            graph2 = gs.simulate_watts_strogatz(n=n_nodes, k=3, p=ps[j,1])\n",
    "        else:\n",
    "            raise Exception(\"Graph not present\")\n",
    "\n",
    "        graphs_out.append([graph1, graph2])\n",
    "        ps_out.append(ps)\n",
    "        ps_orig_out.append(ps_orig)\n",
    "        rhos_out.append(rho)\n",
    "    \n",
    "    return graphs_out, ps_out, ps_orig_out, rhos_out"
   ]
  },
  {
   "cell_type": "code",
   "execution_count": 49,
   "metadata": {},
   "outputs": [],
   "source": [
    "rho = 0.5\n",
    "\n",
    "graphs, ps, ps_orig, rhos =  sim_graph_sequence(graph_name=\"erdos_renyi\",\n",
    "                                                n_sim=10,\n",
    "                                                n_nodes=10,\n",
    "                                                rho=rho,\n",
    "                                                seed=19940202)"
   ]
  },
  {
   "cell_type": "markdown",
   "metadata": {},
   "source": [
    "# 1) Benchmark Methods\n",
    "\n",
    "\n",
    "## Spectrum"
   ]
  },
  {
   "cell_type": "code",
   "execution_count": 57,
   "metadata": {},
   "outputs": [
    {
     "name": "stdout",
     "output_type": "stream",
     "text": [
      "Spectrum correlation is 0.638, True correlation is 0.5, Squared distance is 0.019\n"
     ]
    }
   ],
   "source": [
    "max_eigenvalues = []\n",
    "for sample in graphs:\n",
    "\n",
    "    # subset graphs\n",
    "    graph1 = sample[0]\n",
    "    graph2 = sample[1]\n",
    "\n",
    "    # get adjacency info\n",
    "    adj1 = nx.adjacency_matrix(graph1).toarray()\n",
    "    adj2 = nx.adjacency_matrix(graph2).toarray()\n",
    "\n",
    "    # compute max eigenvalues\n",
    "    max_eigen1 = np.max(np.linalg.eigvalsh(adj1))\n",
    "    max_eigen2 = np.max(np.linalg.eigvalsh(adj2))\n",
    "\n",
    "    max_eigenvalues.append([max_eigen1, max_eigen2])\n",
    "max_eigenvalues = np.array(max_eigenvalues)\n",
    "\n",
    "spectrum_correl = np.round(spearmanr(max_eigenvalues[:,0], max_eigenvalues[:,1]).correlation, 3)\n",
    "squared_dis = np.round((rho - spectrum_correl) ** 2, 3)\n",
    "\n",
    "print(f'Spectrum correlation is {spectrum_correl}, True correlation is {rho}, Squared distance is {squared_dis}')"
   ]
  },
  {
   "cell_type": "markdown",
   "metadata": {},
   "source": [
    "## Frobenius distance"
   ]
  },
  {
   "cell_type": "code",
   "execution_count": 78,
   "metadata": {},
   "outputs": [
    {
     "name": "stdout",
     "output_type": "stream",
     "text": [
      "Frobenius correlation is 0.8845602473215528, True correlation is 0.5, Squared distance is 0.148\n"
     ]
    }
   ],
   "source": [
    "fro_norm_all = []\n",
    "fro_correl_all = []\n",
    "for sample in graphs:\n",
    "\n",
    "    # subset graphs\n",
    "    graph1 = sample[0]\n",
    "    graph2 = sample[1]\n",
    "\n",
    "    # get adjacency info\n",
    "    adj1 = nx.adjacency_matrix(graph1).toarray()\n",
    "    adj2 = nx.adjacency_matrix(graph2).toarray()\n",
    "\n",
    "    adj_dis = adj1 - adj2\n",
    "    fro_norm = np.linalg.norm(adj_dis, ord=\"fro\")\n",
    "    fro_correl = sigmoid(fro_norm)\n",
    "\n",
    "    fro_norm_all.append(fro_norm)\n",
    "    fro_correl_all.append(fro_correl)\n",
    "fro_norm_all = np.array(fro_norm_all)\n",
    "fro_correl_all = np.array(fro_correl_all)\n",
    "fro_correl = np.mean(fro_correl_all)\n",
    "squared_dis = np.round((rho - fro_correl) ** 2, 3)\n",
    "\n",
    "print(f'Frobenius correlation is {fro_correl}, True correlation is {rho}, Squared distance is {squared_dis}')"
   ]
  },
  {
   "cell_type": "code",
   "execution_count": null,
   "metadata": {},
   "outputs": [],
   "source": []
  }
 ],
 "metadata": {
  "kernelspec": {
   "display_name": "gce",
   "language": "python",
   "name": "python3"
  },
  "language_info": {
   "codemirror_mode": {
    "name": "ipython",
    "version": 3
   },
   "file_extension": ".py",
   "mimetype": "text/x-python",
   "name": "python",
   "nbconvert_exporter": "python",
   "pygments_lexer": "ipython3",
   "version": "3.9.0"
  }
 },
 "nbformat": 4,
 "nbformat_minor": 2
}
