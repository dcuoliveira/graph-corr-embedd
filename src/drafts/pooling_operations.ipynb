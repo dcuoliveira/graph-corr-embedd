{
 "cells": [
  {
   "cell_type": "code",
   "execution_count": 2,
   "metadata": {},
   "outputs": [],
   "source": [
    "import torch\n",
    "import dgl\n",
    "import dgl.nn.pytorch as dglnn"
   ]
  },
  {
   "cell_type": "code",
   "execution_count": 13,
   "metadata": {},
   "outputs": [
    {
     "data": {
      "text/plain": [
       "tensor([[1.0000],\n",
       "        [1.0000],\n",
       "        [1.0000],\n",
       "        [0.8176]])"
      ]
     },
     "execution_count": 13,
     "metadata": {},
     "output_type": "execute_result"
    }
   ],
   "source": [
    "num_nodes = 4\n",
    "\n",
    "# Example node embeddings for a graph with 4 nodes and 3-dimensional embeddings\n",
    "embeddings1 = torch.tensor([\n",
    "    [1.0, 2.0, 3.0],\n",
    "    [4.0, 5.0, 6.0],\n",
    "    [7.0, 8.0, 9.0],\n",
    "    [10.0, 11.0, 12.0]\n",
    "], dtype=torch.float32)\n",
    "\n",
    "embeddings2 = torch.tensor([\n",
    "    [1.0, 2.0, 3.0],\n",
    "    [4.0, 5.0, 6.0],\n",
    "    [7.0, 8.0, 9.0],\n",
    "    [10.0, 0, 12.0]\n",
    "], dtype=torch.float32)\n",
    "\n",
    "# Compute cosine similarity between corresponding node embeddings for demonstration\n",
    "cosine_similarity = torch.nn.CosineSimilarity(dim=1)\n",
    "out = cosine_similarity(embeddings1, embeddings2).unsqueeze(1)  # shape [4] -> [4, 1]\n",
    "\n",
    "out"
   ]
  },
  {
   "cell_type": "code",
   "execution_count": 14,
   "metadata": {},
   "outputs": [
    {
     "data": {
      "text/plain": [
       "tensor([[ 1.,  2.,  3.],\n",
       "        [ 4.,  5.,  6.],\n",
       "        [ 7.,  8.,  9.],\n",
       "        [10., 11., 12.]])"
      ]
     },
     "execution_count": 14,
     "metadata": {},
     "output_type": "execute_result"
    }
   ],
   "source": [
    "# Create a diagonal graph (each node is isolated)\n",
    "edges_diagonal = (torch.arange(num_nodes), torch.arange(num_nodes))\n",
    "g_diagonal = dgl.graph(edges_diagonal, num_nodes=num_nodes)\n",
    "\n",
    "# Assign the node embeddings to the graph\n",
    "g_diagonal.ndata['h'] = embeddings1\n",
    "\n",
    "g_diagonal.ndata['h']"
   ]
  },
  {
   "cell_type": "code",
   "execution_count": 15,
   "metadata": {},
   "outputs": [
    {
     "data": {
      "text/plain": [
       "tensor([[ 1.,  2.,  3.],\n",
       "        [ 4.,  5.,  6.],\n",
       "        [ 7.,  8.,  9.],\n",
       "        [10.,  0., 12.]])"
      ]
     },
     "execution_count": 15,
     "metadata": {},
     "output_type": "execute_result"
    }
   ],
   "source": [
    "# Create a fully connected graph (complete graph)\n",
    "src = torch.tensor([i for i in range(num_nodes) for j in range(num_nodes)])\n",
    "dst = torch.tensor([j for i in range(num_nodes) for j in range(num_nodes)])\n",
    "g_fully_connected = dgl.graph((src, dst), num_nodes=num_nodes)\n",
    "\n",
    "# Assign the embeddings as node features for both graph\n",
    "g_fully_connected.ndata['h'] = embeddings2\n",
    "\n",
    "g_fully_connected.ndata['h']"
   ]
  },
  {
   "cell_type": "code",
   "execution_count": 16,
   "metadata": {},
   "outputs": [
    {
     "name": "stdout",
     "output_type": "stream",
     "text": [
      "Average Node Features (Diagonal Graph): tensor([[0.9544]])\n",
      "Average Node Features (Fully Connected Graph): tensor([[0.9544]])\n"
     ]
    }
   ],
   "source": [
    "# Initialize AvgPooling layer\n",
    "avg_pooling = dglnn.glob.AvgPooling()\n",
    "\n",
    "# Apply AvgPooling to both graphs\n",
    "avg_similarity_diagonal = avg_pooling(g_diagonal, out)\n",
    "avg_similarity_fully_connected = avg_pooling(g_fully_connected, out)\n",
    "\n",
    "print(\"Average Node Features (Diagonal Graph):\", avg_similarity_diagonal)\n",
    "print(\"Average Node Features (Fully Connected Graph):\", avg_similarity_fully_connected)\n"
   ]
  },
  {
   "cell_type": "code",
   "execution_count": null,
   "metadata": {},
   "outputs": [],
   "source": []
  }
 ],
 "metadata": {
  "kernelspec": {
   "display_name": "gce",
   "language": "python",
   "name": "python3"
  },
  "language_info": {
   "codemirror_mode": {
    "name": "ipython",
    "version": 3
   },
   "file_extension": ".py",
   "mimetype": "text/x-python",
   "name": "python",
   "nbconvert_exporter": "python",
   "pygments_lexer": "ipython3",
   "version": "3.9.0"
  }
 },
 "nbformat": 4,
 "nbformat_minor": 2
}
