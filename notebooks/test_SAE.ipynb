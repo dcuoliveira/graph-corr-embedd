{
 "cells": [
  {
   "cell_type": "code",
   "execution_count": 3,
   "metadata": {},
   "outputs": [
    {
     "name": "stdout",
     "output_type": "stream",
     "text": [
      "The autoreload extension is already loaded. To reload it, use:\n",
      "  %reload_ext autoreload\n"
     ]
    }
   ],
   "source": [
    "%load_ext autoreload\n",
    "%autoreload 2\n",
    "import torch\n",
    "import torch.optim as optim\n",
    "import argparse\n",
    "import os\n",
    "from tqdm import tqdm\n",
    "import sys\n",
    "sys.path.append('../')\n",
    "\n",
    "from src.models.SAE import StackedSparseAutoencoder\n",
    "from src.utils.conn_data import save_pickle\n",
    "from src.utils.parsers import str_2_bool\n",
    "from src.data.Simulation1Loader import Simulation1Loader"
   ]
  },
  {
   "cell_type": "code",
   "execution_count": 4,
   "metadata": {},
   "outputs": [],
   "source": [
    "import numpy as np\n",
    "import torch\n",
    "import torch.nn as nn\n",
    "import torch.nn.functional as F\n",
    "\n",
    "class StackedSparseAutoencoder(nn.Module):\n",
    "    def __init__(self,\n",
    "                 input_size: int,\n",
    "                 hidden_sizes: list,\n",
    "                 bias: bool = True,\n",
    "                 dropout: float = 0.0,\n",
    "                 sparsity_penalty: float = 1e-4):\n",
    "        super(StackedSparseAutoencoder, self).__init__()\n",
    "\n",
    "        # parameters\n",
    "        self.input_size = input_size\n",
    "        self.hidden_sizes = hidden_sizes\n",
    "        self.sparsity_penalty = sparsity_penalty\n",
    "\n",
    "        # encoder\n",
    "        encoder_layers = []\n",
    "        prev_size = input_size\n",
    "        for hidden_size in hidden_sizes:\n",
    "            encoder_layers.append(nn.Linear(prev_size, hidden_size, bias=bias))\n",
    "            encoder_layers.append(nn.ReLU(inplace=True))\n",
    "            if dropout > 0:\n",
    "                encoder_layers.append(nn.Dropout(dropout))\n",
    "            prev_size = hidden_size\n",
    "        self.encoder = nn.Sequential(*encoder_layers)\n",
    "\n",
    "        # decoder\n",
    "        decoder_layers = []\n",
    "        hidden_sizes.reverse()  # reverse the hidden sizes for symmetric decoder\n",
    "        for hidden_size in hidden_sizes[:-1]:\n",
    "            decoder_layers.append(nn.Linear(prev_size, hidden_size, bias=bias))\n",
    "            decoder_layers.append(nn.ReLU(inplace=True))\n",
    "            if dropout > 0:\n",
    "                decoder_layers.append(nn.Dropout(dropout))\n",
    "            prev_size = hidden_size\n",
    "        # add the last layer without ReLU to reconstruct the input\n",
    "        decoder_layers.append(nn.Linear(prev_size, input_size, bias=bias))\n",
    "        self.decoder = nn.Sequential(*decoder_layers)\n",
    "\n",
    "    def forward(self, x):\n",
    "        z = self.encoder(x)\n",
    "        recon_x = self.decoder(z)\n",
    "        return recon_x, z\n",
    "\n",
    "    def loss_function(self, recon_x, x):\n",
    "        # Mean squared error for reconstruction loss\n",
    "        recon_loss = F.mse_loss(recon_x, x)\n",
    "\n",
    "        # L1 loss for sparsity penalty\n",
    "        sparsity_loss = 0\n",
    "        for layer in self.encoder:\n",
    "            if isinstance(layer, nn.Linear):\n",
    "                sparsity_loss += torch.sum(torch.abs(layer.weight))\n",
    "\n",
    "        total_loss = recon_loss + self.sparsity_penalty * sparsity_loss\n",
    "        return total_loss\n"
   ]
  },
  {
   "cell_type": "markdown",
   "metadata": {},
   "source": [
    "# Model training"
   ]
  },
  {
   "cell_type": "code",
   "execution_count": 5,
   "metadata": {},
   "outputs": [
    {
     "ename": "FileNotFoundError",
     "evalue": "[Errno 2] No such file or directory: '/Users/maruanottoni/home/master/research/graph-corr-embedd/notebooks/../src/data/inputs/simulation1/all_graph_info.pkl'",
     "output_type": "error",
     "traceback": [
      "\u001b[0;31m---------------------------------------------------------------------------\u001b[0m",
      "\u001b[0;31mFileNotFoundError\u001b[0m                         Traceback (most recent call last)",
      "\u001b[1;32m/Users/maruanottoni/home/master/research/graph-corr-embedd/notebooks/test_SAE.ipynb Cell 4\u001b[0m line \u001b[0;36m1\n\u001b[1;32m     <a href='vscode-notebook-cell:/Users/maruanottoni/home/master/research/graph-corr-embedd/notebooks/test_SAE.ipynb#W3sZmlsZQ%3D%3D?line=9'>10</a>\u001b[0m sparsity_penalty \u001b[39m=\u001b[39m \u001b[39m1e-4\u001b[39m\n\u001b[1;32m     <a href='vscode-notebook-cell:/Users/maruanottoni/home/master/research/graph-corr-embedd/notebooks/test_SAE.ipynb#W3sZmlsZQ%3D%3D?line=11'>12</a>\u001b[0m \u001b[39m# define dataset\u001b[39;00m\n\u001b[0;32m---> <a href='vscode-notebook-cell:/Users/maruanottoni/home/master/research/graph-corr-embedd/notebooks/test_SAE.ipynb#W3sZmlsZQ%3D%3D?line=12'>13</a>\u001b[0m sim \u001b[39m=\u001b[39m Simulation1Loader(name\u001b[39m=\u001b[39;49mdataset_name, sample\u001b[39m=\u001b[39;49msample)\n\u001b[1;32m     <a href='vscode-notebook-cell:/Users/maruanottoni/home/master/research/graph-corr-embedd/notebooks/test_SAE.ipynb#W3sZmlsZQ%3D%3D?line=13'>14</a>\u001b[0m loader \u001b[39m=\u001b[39m sim\u001b[39m.\u001b[39mcreate_graph_loader(batch_size\u001b[39m=\u001b[39mbatch_size)\n\u001b[1;32m     <a href='vscode-notebook-cell:/Users/maruanottoni/home/master/research/graph-corr-embedd/notebooks/test_SAE.ipynb#W3sZmlsZQ%3D%3D?line=15'>16</a>\u001b[0m \u001b[39m# define model\u001b[39;00m\n",
      "File \u001b[0;32m~/home/master/research/graph-corr-embedd/notebooks/../src/data/Simulation1Loader.py:29\u001b[0m, in \u001b[0;36mSimulation1Loader.__init__\u001b[0;34m(self, name, sample)\u001b[0m\n\u001b[1;32m     26\u001b[0m \u001b[39msuper\u001b[39m()\u001b[39m.\u001b[39m\u001b[39m__init__\u001b[39m()\n\u001b[1;32m     28\u001b[0m \u001b[39mself\u001b[39m\u001b[39m.\u001b[39mname \u001b[39m=\u001b[39m name\n\u001b[0;32m---> 29\u001b[0m \u001b[39mself\u001b[39;49m\u001b[39m.\u001b[39;49m_read_data(sample\u001b[39m=\u001b[39;49msample)\n",
      "File \u001b[0;32m~/home/master/research/graph-corr-embedd/notebooks/../src/data/Simulation1Loader.py:35\u001b[0m, in \u001b[0;36mSimulation1Loader._read_data\u001b[0;34m(self, sample)\u001b[0m\n\u001b[1;32m     33\u001b[0m     \u001b[39mself\u001b[39m\u001b[39m.\u001b[39mgraph_data \u001b[39m=\u001b[39m load_pickle(os\u001b[39m.\u001b[39mpath\u001b[39m.\u001b[39mjoin(os\u001b[39m.\u001b[39mpath\u001b[39m.\u001b[39mdirname(\u001b[39m__file__\u001b[39m), \u001b[39m\"\u001b[39m\u001b[39minputs\u001b[39m\u001b[39m\"\u001b[39m, \u001b[39mself\u001b[39m\u001b[39m.\u001b[39mname, \u001b[39m\"\u001b[39m\u001b[39msample_graph_info.pkl\u001b[39m\u001b[39m\"\u001b[39m))\n\u001b[1;32m     34\u001b[0m \u001b[39melse\u001b[39;00m:\n\u001b[0;32m---> 35\u001b[0m     \u001b[39mself\u001b[39m\u001b[39m.\u001b[39mgraph_data \u001b[39m=\u001b[39m load_pickle(os\u001b[39m.\u001b[39;49mpath\u001b[39m.\u001b[39;49mjoin(os\u001b[39m.\u001b[39;49mpath\u001b[39m.\u001b[39;49mdirname(\u001b[39m__file__\u001b[39;49m), \u001b[39m\"\u001b[39;49m\u001b[39minputs\u001b[39;49m\u001b[39m\"\u001b[39;49m, \u001b[39mself\u001b[39;49m\u001b[39m.\u001b[39;49mname, \u001b[39m\"\u001b[39;49m\u001b[39mall_graph_info.pkl\u001b[39;49m\u001b[39m\"\u001b[39;49m))\n",
      "File \u001b[0;32m~/home/master/research/graph-corr-embedd/notebooks/../src/utils/conn_data.py:19\u001b[0m, in \u001b[0;36mload_pickle\u001b[0;34m(path)\u001b[0m\n\u001b[1;32m     17\u001b[0m     target_dict \u001b[39m=\u001b[39m joblib\u001b[39m.\u001b[39mload(path)\n\u001b[1;32m     18\u001b[0m \u001b[39melse\u001b[39;00m:\n\u001b[0;32m---> 19\u001b[0m     \u001b[39mwith\u001b[39;00m \u001b[39mopen\u001b[39;49m(path, \u001b[39m'\u001b[39;49m\u001b[39mrb\u001b[39;49m\u001b[39m'\u001b[39;49m) \u001b[39mas\u001b[39;00m handle:\n\u001b[1;32m     20\u001b[0m         target_dict \u001b[39m=\u001b[39m pickle\u001b[39m.\u001b[39mload(handle)\n\u001b[1;32m     22\u001b[0m \u001b[39mreturn\u001b[39;00m target_dict\n",
      "\u001b[0;31mFileNotFoundError\u001b[0m: [Errno 2] No such file or directory: '/Users/maruanottoni/home/master/research/graph-corr-embedd/notebooks/../src/data/inputs/simulation1/all_graph_info.pkl'"
     ]
    }
   ],
   "source": [
    "dataset_name = 'simulation1'\n",
    "sample = False\n",
    "batch_size = 1\n",
    "model_name =\"sae\"\n",
    "input_size = 100\n",
    "hidden_sizes = [50, 25, 50]\n",
    "dropout = 0.5\n",
    "learning_rate = 0.001\n",
    "epochs = 10\n",
    "sparsity_penalty = 1e-4\n",
    "\n",
    "# define dataset\n",
    "sim = Simulation1Loader(name=dataset_name, sample=sample)\n",
    "loader = sim.create_graph_loader(batch_size=batch_size)\n",
    "\n",
    "# define model\n",
    "model = StackedSparseAutoencoder(input_size=input_size,\n",
    "                                    hidden_sizes=hidden_sizes,\n",
    "                                    dropout=dropout,\n",
    "                                    sparsity_penalty=sparsity_penalty)\n",
    "\n",
    "# define optimizer\n",
    "optimizer = optim.Adam(model.parameters(), lr=learning_rate)\n",
    "\n",
    "# initialize tqdm\n",
    "pbar = tqdm(range(epochs))\n",
    "\n",
    "for epoch in pbar:\n",
    "    epoch_loss = 0\n",
    "    for data in loader:\n",
    "        x = data.x.view(-1, input_size)  # Adjust shape if necessary\n",
    "\n",
    "        # forward pass\n",
    "        recon_x, _ = model(x)\n",
    "\n",
    "        # compute loss\n",
    "        loss = model.loss_function(recon_x, x)\n",
    "\n",
    "        # backward and optimize\n",
    "        optimizer.zero_grad()\n",
    "        loss.backward()\n",
    "        optimizer.step()\n",
    "\n",
    "        epoch_loss += loss.item()\n",
    "\n",
    "    # update tqdm\n",
    "    pbar.set_description(f\"Epoch [{epoch+1}/{epochs}], Loss: {epoch_loss/len(loader):.4f}\")\n",
    "\n",
    "# Save model and results\n",
    "model_name = f'{model_name}_{input_size}_{\"_\".join(map(str, hidden_sizes))}'\n",
    "output_path = f\"{os.path.dirname(__file__)}/data/outputs/{dataset_name}/{model_name}\"\n",
    "if not os.path.exists(output_path):\n",
    "    os.makedirs(output_path)\n",
    "\n",
    "# Modify saving mechanism as per your requirement\n",
    "torch.save(model.state_dict(), f\"{output_path}/model.pth\")\n",
    "\n",
    "# Additional code for saving results, testing, etc. can be added here\n"
   ]
  },
  {
   "cell_type": "code",
   "execution_count": null,
   "metadata": {},
   "outputs": [],
   "source": []
  },
  {
   "cell_type": "code",
   "execution_count": null,
   "metadata": {},
   "outputs": [],
   "source": []
  },
  {
   "cell_type": "code",
   "execution_count": null,
   "metadata": {},
   "outputs": [],
   "source": []
  },
  {
   "cell_type": "code",
   "execution_count": null,
   "metadata": {},
   "outputs": [],
   "source": []
  },
  {
   "cell_type": "code",
   "execution_count": null,
   "metadata": {},
   "outputs": [],
   "source": []
  }
 ],
 "metadata": {
  "kernelspec": {
   "display_name": "Python 3",
   "language": "python",
   "name": "python3"
  },
  "language_info": {
   "codemirror_mode": {
    "name": "ipython",
    "version": 3
   },
   "file_extension": ".py",
   "mimetype": "text/x-python",
   "name": "python",
   "nbconvert_exporter": "python",
   "pygments_lexer": "ipython3",
   "version": "3.11.5"
  }
 },
 "nbformat": 4,
 "nbformat_minor": 2
}
