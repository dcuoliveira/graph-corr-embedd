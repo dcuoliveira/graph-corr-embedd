{
 "cells": [
  {
   "cell_type": "code",
   "execution_count": 1,
   "metadata": {},
   "outputs": [],
   "source": [
    "# for running this it should be on the root of the project\n",
    "%load_ext autoreload\n",
    "%autoreload 2\n",
    "import torch\n",
    "import torch.optim as optim\n",
    "import argparse\n",
    "import pandas as pd\n",
    "import os\n",
    "from tqdm import tqdm\n",
    "import sys\n",
    "sys.path.insert(0, '/Users/maruanottoni/home/master/research/graph-corr-embedd/src')\n",
    "\n",
    "from models.SAE import StackedSparseAutoencoder\n",
    "from utils.conn_data import save_pickle\n",
    "from utils.parsers import str_2_bool\n",
    "from data.Simulation1Loader import Simulation1Loader\n",
    "from simulation.GraphSim import GraphSim\n",
    "from utils.activation_functions import sigmoid\n",
    "\n",
    "import numpy as np\n",
    "import torch\n",
    "import torch.nn as nn\n",
    "import torch.nn.functional as F\n",
    "\n",
    "from scipy.stats import spearmanr, norm\n",
    "from tqdm import tqdm\n",
    "from sklearn.metrics import roc_curve, auc\n",
    "\n",
    "import matplotlib.pyplot as plt\n",
    "import numpy as np\n",
    "import networkx as nx\n",
    "from scipy.stats import spearmanr\n",
    "from tqdm import tqdm\n",
    "\n",
    "import numpy as np\n",
    "import networkx as nx\n",
    "from scipy.stats import spearmanr\n",
    "from tqdm import tqdm\n",
    "\n"
   ]
  },
  {
   "cell_type": "markdown",
   "metadata": {},
   "source": [
    "# Defining params"
   ]
  },
  {
   "cell_type": "code",
   "execution_count": 2,
   "metadata": {},
   "outputs": [],
   "source": [
    "simulation_name = 'simulation2_test_spectrum'\n",
    "source_path = f'/Users/maruanottoni/home/master/research/graph-corr-embedd/data/simulations/{simulation_name}'"
   ]
  },
  {
   "cell_type": "code",
   "execution_count": 3,
   "metadata": {},
   "outputs": [],
   "source": [
    "#all_graphs = {}\n",
    "simulation_name = \"Graph Correlation Analysis\"\n",
    "\n",
    "# Example usage\n",
    "n_graphs = [20,40]  # Example list of numbers of graphs 20,40,60,80,100\n",
    "n_simulations = 1000 # should be 1000\n",
    "n_nodes = 50 # 50\n",
    "s_initial = 0.5 # testes with 0.5 and 0\n",
    "graph_types = [\"erdos_renyi\", \"random_geometric\"]  # Extend this list as needed\n",
    "graph_classes = ['erdos_renyi', 'random_geometric']  # Extend this list based on your graph types"
   ]
  },
  {
   "cell_type": "code",
   "execution_count": 4,
   "metadata": {},
   "outputs": [],
   "source": [
    "# Check if path exists\n",
    "output_path = f\"{source_path}/data/inputs/{simulation_name}\"\n",
    "if not os.path.exists(output_path):\n",
    "    os.makedirs(output_path)\n",
    "\n",
    "# generate covariance between gaussian random variables\n",
    "graph_classes = [\n",
    "    \"erdos_renyi\",\n",
    "    \"om_geometric\",\n",
    "    \"random_regular\",\n",
    "    \"barabasi_albert\",\n",
    "    \"watts_strogatz\",\n",
    "]"
   ]
  },
  {
   "cell_type": "markdown",
   "metadata": {},
   "source": [
    "# Start simluation"
   ]
  },
  {
   "cell_type": "code",
   "execution_count": 5,
   "metadata": {},
   "outputs": [],
   "source": [
    "# Assuming GraphSim and other necessary imports are defined elsewhere\n",
    "\n",
    "#all_graphs = {}\n",
    "# Function to run the simulation\n",
    "def run_simulation(n_graphs, n_simulations, n_nodes, s_initial, graph_classes):\n",
    "    #eigenvalues_dict = {graph_name: [] for graph_name in graph_classes}\n",
    "    #n_graphs_dict = {n_graph: [] for n_graph in n_graphs}\n",
    "    #eigenvalues_dict = {graph_name: n_graphs_dict for graph_name in graph_classes}\n",
    "    # Initialize eigenvalues_dict\n",
    "    eigenvalues_dict = {graph_name: {n_graph: [] for n_graph in n_graphs} for graph_name in graph_classes}\n",
    "    \n",
    "    for n_graph in n_graphs:\n",
    "        for graph_name in tqdm(graph_classes, desc=f\"Simulating {n_graph} graphs\"):\n",
    "            gs = GraphSim(graph_name=graph_name)\n",
    "\n",
    "            for i in range(n_simulations):\n",
    "                all_eigenvalues1 = []\n",
    "                all_eigenvalues2 = []\n",
    "\n",
    "                for j in range(n_graph):\n",
    "                    gs.update_seed()\n",
    "\n",
    "                    # Generate parameters and normalize\n",
    "                    p = gs.get_p_from_bivariate_gaussian(s=s_initial)\n",
    "                    p = sigmoid(np.abs(p))  # normalize\n",
    "\n",
    "                    # Simulate graphs based on the graph type\n",
    "                    if graph_name == \"erdos_renyi\":\n",
    "                        graph1 = gs.simulate_erdos(n=n_nodes, prob=p[0, 0])\n",
    "                        graph2 = gs.simulate_erdos(n=n_nodes, prob=p[0, 1])\n",
    "                    elif graph_name == \"random_geometric\":\n",
    "                        graph1 = gs.simulate_geometric(n=n_nodes, radius=p[0, 0])\n",
    "                        graph2 = gs.simulate_geometric(n=n_nodes, radius=p[0, 1])\n",
    "                    # TODO: Add other graph types\n",
    "\n",
    "                    # Calculate spectral radii and append to eigenvalues list\n",
    "                    largest_eigenvalue1 = max(np.abs(np.linalg.eigvals(nx.adjacency_matrix(graph1).A)))\n",
    "                    largest_eigenvalue2 = max(np.abs(np.linalg.eigvals(nx.adjacency_matrix(graph2).A)))\n",
    "                    all_eigenvalues1.append(largest_eigenvalue1)\n",
    "                    all_eigenvalues2.append(largest_eigenvalue2)\n",
    "\n",
    "                eigenvalues_dict[graph_name][n_graph].append((all_eigenvalues1, all_eigenvalues2))\n",
    "\n",
    "    return eigenvalues_dict"
   ]
  },
  {
   "cell_type": "code",
   "execution_count": 6,
   "metadata": {},
   "outputs": [
    {
     "name": "stderr",
     "output_type": "stream",
     "text": [
      "Simulating 20 graphs:   0%|          | 0/2 [00:00<?, ?it/s]/Users/maruanottoni/miniforge3/envs/gce/lib/python3.10/site-packages/scipy/sparse/_base.py:719: VisibleDeprecationWarning: `.A` is deprecated and will be removed in v1.13.0. Use `.toarray()` instead.\n",
      "  warn(np.VisibleDeprecationWarning(\n",
      "Simulating 20 graphs: 100%|██████████| 2/2 [01:57<00:00, 58.55s/it]\n",
      "Simulating 40 graphs: 100%|██████████| 2/2 [03:50<00:00, 115.19s/it]\n"
     ]
    }
   ],
   "source": [
    "# Run the simulation\n",
    "#all_graphs = run_simulation(n_graphs, n_simulations, n_nodes, s_initial, graph_classes)\n",
    "eigen  = run_simulation(n_graphs, n_simulations, n_nodes, s_initial, graph_types)"
   ]
  },
  {
   "cell_type": "code",
   "execution_count": 7,
   "metadata": {},
   "outputs": [],
   "source": [
    "def get_spearm_pvalues_same_family(eigenvalues_dict, family, n_graphs, n_simulations):\n",
    "    pvalues = []\n",
    "    for i in range(n_simulations):\n",
    "        first_run, second_run = eigenvalues_dict[family][n_graphs][i]\n",
    "        pvalues.append(spearmanr(first_run, second_run).pvalue)\n",
    "    return pvalues\n",
    "\n",
    "#pval = get_spearm_pvalues_same_family(eigen, 'erdos_renyi', n_graphs=n_graphs[0], n_simulations=n_simulations)"
   ]
  },
  {
   "cell_type": "code",
   "execution_count": 8,
   "metadata": {},
   "outputs": [],
   "source": [
    "def get_spearman_pvalues(eigenvalues_dict, first_family_name, second_family_name, n_simulations, n_graphs):\n",
    "    pvalues = []\n",
    "    for i in range(n_simulations):\n",
    "        first_family = eigenvalues_dict[first_family_name][n_graphs][i]\n",
    "        second_family = eigenvalues_dict[second_family_name][n_graphs][i]\n",
    "        pvalues.append(spearmanr(first_family[0], second_family[0]).pvalue) # 0 because i run 2 times for each graph\n",
    "    return pvalues\n",
    "\n",
    "#pval = get_spearman_pvalues(eigen, n_simulations=n_simulations, n_graphs=n_graphs[0],\n",
    "                            #first_family_name='erdos_renyi', second_family_name='random_geometric')"
   ]
  },
  {
   "cell_type": "markdown",
   "metadata": {},
   "source": [
    "# ANalyse the result"
   ]
  },
  {
   "cell_type": "code",
   "execution_count": 14,
   "metadata": {},
   "outputs": [],
   "source": [
    "# Assuming 'all_graphs' is your dictionary containing all simulation results\n",
    "graph_types = ['erdos_renyi', 'random_geometric']  # List your graph types here\n",
    "\n",
    "# Function to calculate FPR\n",
    "def calculate_rates(p_values, threshold):\n",
    "    fp, tn = 0, 0\n",
    "    for p_value in p_values:\n",
    "        if p_value > threshold:\n",
    "            fp += 1\n",
    "        else:\n",
    "            tn += 1\n",
    "    return tn / (fp + tn) if (fp + tn) > 0 else 0\n",
    "\n",
    "# Plotting the matrix of ROC curves\n",
    "fig, axs = plt.subplots(len(graph_types), len(graph_types), figsize=(7, 7))\n",
    "\n",
    "# Iterate over each graph type pair and plot the ROC curve\n",
    "for n_graph in n_graphs:\n",
    "    for i, gt1 in enumerate(graph_types):\n",
    "        for j, gt2 in enumerate(graph_types):\n",
    "            if j > i:  # This condition ensures we only fill the upper triangle\n",
    "                # Calculate FPRs for each threshold\n",
    "                thresholds = np.linspace(0, 1, 100)\n",
    "                pval = get_spearman_pvalues(eigen, n_simulations=n_simulations, n_graphs=n_graph,\n",
    "                                            first_family_name=gt1, second_family_name=gt2)\n",
    "                fprs = [calculate_rates(pval, th) for th in thresholds]\n",
    "                \n",
    "                axs[i, j].plot(thresholds, fprs, marker='.', label=f'{n_graph}' )\n",
    "                axs[i, j].plot([0, 1], [0, 1], linestyle='--')\n",
    "                axs[i, j].set_xlabel('P-value Threshold')\n",
    "                axs[i, j].set_ylabel('1 - Specificity (FPR)')\n",
    "                axs[i, j].set_title(f'{gt1} vs {gt2}')\n",
    "            elif j == i:\n",
    "                # Calculate FPRs for each threshold\n",
    "                thresholds = np.linspace(0, 1, 100)\n",
    "                pval = get_spearm_pvalues_same_family(eigen, gt1, n_graphs=n_graph, n_simulations=n_simulations)\n",
    "                fprs = [calculate_rates(pval, th) for th in thresholds]\n",
    "                \n",
    "                axs[i, j].plot(thresholds, fprs, marker='.', label=f'{n_graph}')\n",
    "                axs[i, j].plot([0, 1], [0, 1], linestyle='--')\n",
    "                axs[i, j].set_xlabel('P-value Threshold')\n",
    "                axs[i, j].set_ylabel('1 - Specificity (FPR)')\n",
    "                axs[i, j].set_title(f'{gt1} vs {gt2}')\n",
    "            else:\n",
    "                # Turn off the axis for lower triangle and diagonal plots\n",
    "                axs[i, j].axis('off')\n",
    "\n",
    "# Adjust layout and display the plot\n",
    "plt.suptitle('Upper Triangle of ROC Curves Matrix', fontsize=16)\n",
    "plt.tight_layout()\n",
    "plt.show()\n"
   ]
  },
  {
   "cell_type": "code",
   "execution_count": null,
   "metadata": {},
   "outputs": [],
   "source": []
  },
  {
   "cell_type": "code",
   "execution_count": null,
   "metadata": {},
   "outputs": [],
   "source": []
  },
  {
   "cell_type": "code",
   "execution_count": null,
   "metadata": {},
   "outputs": [],
   "source": []
  }
 ],
 "metadata": {
  "kernelspec": {
   "display_name": "Python 3",
   "language": "python",
   "name": "python3"
  },
  "language_info": {
   "codemirror_mode": {
    "name": "ipython",
    "version": 3
   },
   "file_extension": ".py",
   "mimetype": "text/x-python",
   "name": "python",
   "nbconvert_exporter": "python",
   "pygments_lexer": "ipython3",
   "version": "3.10.0"
  }
 },
 "nbformat": 4,
 "nbformat_minor": 2
}
