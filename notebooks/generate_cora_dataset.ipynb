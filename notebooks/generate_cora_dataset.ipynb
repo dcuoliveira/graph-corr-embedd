{
 "cells": [
  {
   "cell_type": "code",
   "execution_count": 56,
   "metadata": {},
   "outputs": [],
   "source": [
    "import os\n",
    "import sys\n",
    "\n",
    "sys.path.append(os.path.join(os.path.dirname(os.getcwd()), \"src\"))\n",
    "\n",
    "from torch_geometric.datasets import Planetoid\n",
    "import networkx as nx\n",
    "import matplotlib.pyplot as plt\n",
    "from torch_geometric.utils import to_dense_adj\n",
    "\n",
    "from utils.conn_data import save_pickle"
   ]
  },
  {
   "cell_type": "markdown",
   "metadata": {},
   "source": [
    "## Generate dataset"
   ]
  },
  {
   "cell_type": "code",
   "execution_count": 2,
   "metadata": {},
   "outputs": [
    {
     "name": "stderr",
     "output_type": "stream",
     "text": [
      "Downloading https://github.com/kimiyoung/planetoid/raw/master/data/ind.cora.x\n",
      "Downloading https://github.com/kimiyoung/planetoid/raw/master/data/ind.cora.tx\n",
      "Downloading https://github.com/kimiyoung/planetoid/raw/master/data/ind.cora.allx\n",
      "Downloading https://github.com/kimiyoung/planetoid/raw/master/data/ind.cora.y\n",
      "Downloading https://github.com/kimiyoung/planetoid/raw/master/data/ind.cora.ty\n",
      "Downloading https://github.com/kimiyoung/planetoid/raw/master/data/ind.cora.ally\n",
      "Downloading https://github.com/kimiyoung/planetoid/raw/master/data/ind.cora.graph\n",
      "Downloading https://github.com/kimiyoung/planetoid/raw/master/data/ind.cora.test.index\n",
      "Processing...\n",
      "Done!\n"
     ]
    }
   ],
   "source": [
    "dataset = Planetoid(root='tmp/Cora', name='Cora')"
   ]
  },
  {
   "cell_type": "code",
   "execution_count": 4,
   "metadata": {},
   "outputs": [
    {
     "name": "stdout",
     "output_type": "stream",
     "text": [
      "Number of graphs:  1\n",
      "Number of features:  1433\n",
      "Number of classes:  7\n"
     ]
    }
   ],
   "source": [
    "# number of graphs\n",
    "print(\"Number of graphs: \", len(dataset))\n",
    "\n",
    "# number of features\n",
    "print(\"Number of features: \", dataset.num_features)\n",
    "\n",
    "# number of classes\n",
    "print(\"Number of classes: \", dataset.num_classes)"
   ]
  },
  {
   "cell_type": "code",
   "execution_count": 16,
   "metadata": {},
   "outputs": [
    {
     "data": {
      "text/plain": [
       "Data(x=[2708, 1433], edge_index=[2, 10556], y=[2708], train_mask=[2708], val_mask=[2708], test_mask=[2708])"
      ]
     },
     "execution_count": 16,
     "metadata": {},
     "output_type": "execute_result"
    }
   ],
   "source": [
    "dataset[0]"
   ]
  },
  {
   "cell_type": "code",
   "execution_count": 5,
   "metadata": {},
   "outputs": [
    {
     "name": "stdout",
     "output_type": "stream",
     "text": [
      "Number of nodes:  2708\n",
      "Number of edges:  10556\n",
      "Is directed:  False\n"
     ]
    }
   ],
   "source": [
    "# select the first graph\n",
    "data = dataset[0]\n",
    "\n",
    "# number of nodes\n",
    "print(\"Number of nodes: \", data.num_nodes)\n",
    "\n",
    "# number of edges\n",
    "print(\"Number of edges: \", data.num_edges)\n",
    "\n",
    "# check if directed\n",
    "print(\"Is directed: \", data.is_directed())"
   ]
  },
  {
   "cell_type": "markdown",
   "metadata": {},
   "source": [
    "## Description\n",
    "\n",
    "The dataset consists of 2708 scientific publications classified into one of seven classes. The edges refere to citations among publications and totalled 5429 edges.\n",
    "\n",
    "The data.x has dimension (num of publications, num of unique words)."
   ]
  },
  {
   "cell_type": "code",
   "execution_count": 30,
   "metadata": {},
   "outputs": [
    {
     "name": "stdout",
     "output_type": "stream",
     "text": [
      "torch.Size([2708, 1433])\n"
     ]
    },
    {
     "data": {
      "text/plain": [
       "tensor([[0., 0., 0.,  ..., 0., 0., 0.],\n",
       "        [0., 0., 0.,  ..., 0., 0., 0.],\n",
       "        [0., 0., 0.,  ..., 0., 0., 0.],\n",
       "        ...,\n",
       "        [0., 0., 0.,  ..., 0., 0., 0.],\n",
       "        [0., 0., 0.,  ..., 0., 0., 0.],\n",
       "        [0., 0., 0.,  ..., 0., 0., 0.]])"
      ]
     },
     "execution_count": 30,
     "metadata": {},
     "output_type": "execute_result"
    }
   ],
   "source": [
    "print(data.x.shape)\n",
    "data.x"
   ]
  },
  {
   "cell_type": "code",
   "execution_count": 45,
   "metadata": {},
   "outputs": [
    {
     "data": {
      "text/plain": [
       "torch.Size([2708])"
      ]
     },
     "execution_count": 45,
     "metadata": {},
     "output_type": "execute_result"
    }
   ],
   "source": [
    "data.y.shape"
   ]
  },
  {
   "cell_type": "code",
   "execution_count": 32,
   "metadata": {},
   "outputs": [
    {
     "data": {
      "text/plain": [
       "tensor([0, 1, 2, 3, 4, 5, 6])"
      ]
     },
     "execution_count": 32,
     "metadata": {},
     "output_type": "execute_result"
    }
   ],
   "source": [
    "data.y.unique()"
   ]
  },
  {
   "cell_type": "code",
   "execution_count": 40,
   "metadata": {},
   "outputs": [],
   "source": [
    "y_lables = {\n",
    "\n",
    "    \"Neural_Networks\": 0,\n",
    "    \"Probabilistic_Methods\": 1,\n",
    "    \"Genetic_Algorithms\": 2,\n",
    "    \"Theory\": 3,\n",
    "    \"Case_Based\": 4,\n",
    "    \"Reinforcement_Learning\": 5,\n",
    "    \"Rule_Learning\": 6\n",
    "    \n",
    "}"
   ]
  },
  {
   "cell_type": "code",
   "execution_count": 48,
   "metadata": {},
   "outputs": [],
   "source": [
    "# Create a NetworkX graph\n",
    "G = nx.Graph()\n",
    "\n",
    "# Add nodes\n",
    "# If your graph data includes node features, you can add them here\n",
    "for node_id in range(data.num_nodes):\n",
    "    G.add_node(node_id)  # Add any node attributes if available\n",
    "\n",
    "# Add edges\n",
    "# Edge index is typically a 2xN tensor where each column is an edge\n",
    "edge_index = data.edge_index\n",
    "for i in range(edge_index.shape[1]):\n",
    "    source, target = edge_index[:, i]\n",
    "    G.add_edge(source.item(), target.item())  # Add any edge attributes if available\n",
    "\n",
    "# edge_index to adjacency matrix\n",
    "adj_matrix = to_dense_adj(data.edge_index, max_num_nodes=data.num_nodes)[0]\n"
   ]
  },
  {
   "cell_type": "code",
   "execution_count": 51,
   "metadata": {},
   "outputs": [],
   "source": [
    "graph_info = {\n",
    "\n",
    "    \"G\": G,\n",
    "    \"Adj\": adj_matrix,\n",
    "    \"Node\": data.num_nodes,\n",
    "    \"torch_graph_data\": data\n",
    "\n",
    "}"
   ]
  },
  {
   "cell_type": "code",
   "execution_count": 57,
   "metadata": {},
   "outputs": [],
   "source": [
    "inputs_path = os.path.join(os.path.dirname(os.getcwd()), \"src\", \"data\", \"inputs\", \"cora\")\n",
    "save_pickle(obj=graph_info,\n",
    "                path=os.path.join(inputs_path,\n",
    "                                  \"graph_info.pickle\"))"
   ]
  },
  {
   "cell_type": "code",
   "execution_count": null,
   "metadata": {},
   "outputs": [],
   "source": []
  }
 ],
 "metadata": {
  "kernelspec": {
   "display_name": "gce",
   "language": "python",
   "name": "python3"
  },
  "language_info": {
   "codemirror_mode": {
    "name": "ipython",
    "version": 3
   },
   "file_extension": ".py",
   "mimetype": "text/x-python",
   "name": "python",
   "nbconvert_exporter": "python",
   "pygments_lexer": "ipython3",
   "version": "3.10.0"
  }
 },
 "nbformat": 4,
 "nbformat_minor": 2
}
